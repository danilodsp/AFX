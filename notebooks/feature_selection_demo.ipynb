{
 "cells": [
  {
   "cell_type": "markdown",
   "id": "47442cac",
   "metadata": {},
   "source": [
    "# Feature Selection and Dimensionality Reduction Demo\n",
    "\n",
    "This notebook demonstrates how to use PCA and mutual information for feature selection and dimensionality reduction on audio features."
   ]
  },
  {
   "cell_type": "code",
   "execution_count": null,
   "id": "836734ec",
   "metadata": {},
   "outputs": [],
   "source": [
    "import numpy as np\n",
    "import pandas as pd\n",
    "from AFX.utils.selectors import pca_reducer, mutual_info_selector, correlation_selector\n",
    "\n",
    "# Load a previously extracted feature set (from batch demo)\n",
    "df = pd.read_json('batch_features.json').T.reset_index(drop=True)\n",
    "\n",
    "# Drop non-numeric columns and missing values\n",
    "feature_cols = [col for col in df.columns if col not in ['file', 'error']]\n",
    "df = df.dropna(subset=feature_cols)\n",
    "X = df[feature_cols].values"
   ]
  },
  {
   "cell_type": "markdown",
   "id": "2e05fcca",
   "metadata": {},
   "source": [
    "## Dimensionality Reduction with PCA"
   ]
  },
  {
   "cell_type": "code",
   "execution_count": null,
   "id": "6ae2ea96",
   "metadata": {},
   "outputs": [],
   "source": [
    "# Reduce to 2 principal components for visualization\n",
    "X_pca, pca = pca_reducer({k: df[k].values for k in feature_cols}, n_components=2)\n",
    "\n",
    "import matplotlib.pyplot as plt\n",
    "plt.figure(figsize=(6, 5))\n",
    "plt.scatter(X_pca[:, 0], X_pca[:, 1], alpha=0.7)\n",
    "plt.xlabel('PC1')\n",
    "plt.ylabel('PC2')\n",
    "plt.title('PCA of Audio Features')\n",
    "plt.tight_layout()\n",
    "plt.show()"
   ]
  },
  {
   "cell_type": "markdown",
   "id": "3ab35c30",
   "metadata": {},
   "source": [
    "## Feature Selection with Mutual Information\n",
    "\n",
    "Suppose we have labels (e.g., class IDs) for supervised selection. Here, we simulate random labels for demonstration."
   ]
  },
  {
   "cell_type": "code",
   "execution_count": null,
   "id": "6b8eddeb",
   "metadata": {},
   "outputs": [],
   "source": [
    "# Simulate random labels (replace with real labels for your dataset)\n",
    "y = np.random.randint(0, 2, size=X.shape[0])\n",
    "selected_idx = mutual_info_selector(X, y, k=5)\n",
    "selected_features = [feature_cols[i] for i in selected_idx]\n",
    "print('Top 5 features by mutual information:', selected_features)"
   ]
  },
  {
   "cell_type": "markdown",
   "id": "b2246e77",
   "metadata": {},
   "source": [
    "## Correlation-Based Feature Filtering"
   ]
  },
  {
   "cell_type": "code",
   "execution_count": null,
   "id": "76dfb66c",
   "metadata": {},
   "outputs": [],
   "source": [
    "selected_corr_idx = correlation_selector(X, threshold=0.9)\n",
    "selected_corr_features = [feature_cols[i] for i in selected_corr_idx]\n",
    "print('Features after correlation filtering:', selected_corr_features)"
   ]
  },
  {
   "cell_type": "markdown",
   "id": "dc8953bd",
   "metadata": {},
   "source": [
    "## Next Steps\n",
    "- Use selected features for ML models.\n",
    "- Try with real class labels for supervised selection.\n",
    "- Experiment with different thresholds and selectors."
   ]
  }
 ],
 "metadata": {
  "language_info": {
   "name": "python"
  }
 },
 "nbformat": 4,
 "nbformat_minor": 5
}
