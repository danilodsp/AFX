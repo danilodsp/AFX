{
 "cells": [
  {
   "cell_type": "markdown",
   "id": "47442cac",
   "metadata": {},
   "source": [
    "# Feature Selection and Dimensionality Reduction Demo\n",
    "\n",
    "This notebook demonstrates how to use PCA and mutual information for feature selection and dimensionality reduction on audio features."
   ]
  },
  {
   "cell_type": "markdown",
   "id": "4310c67f",
   "metadata": {},
   "source": [
    "> **Note:**\n",
    "> This notebook expects a file named `batch_features.json` in the current directory, containing extracted audio features. If you do not have this file, you can generate it by running the batch extraction script from the command line:\n",
    ">\n",
    "> ```powershell\n",
    "> # From the project root directory\n",
    "> python -m AFX.cli <your_audio_folder> --config AFX/config.json --output batch_features.json --format json\n",
    "> ```"
   ]
  },
  {
   "cell_type": "code",
   "execution_count": null,
   "id": "836734ec",
   "metadata": {},
   "outputs": [],
   "source": [
    "import numpy as np\n",
    "import pandas as pd\n",
    "from AFX.utils.selectors import pca_reducer, mutual_info_selector, correlation_selector\n",
    "\n",
    "# Load a previously extracted feature set (from batch demo)\n",
    "df = pd.read_json('../batch_features.json').T.reset_index(drop=True)\n",
    "\n",
    "# Drop non-numeric columns and missing values\n",
    "feature_cols = [col for col in df.columns if col not in ['file', 'error']]\n",
    "df = df.dropna(subset=feature_cols)\n",
    "X = df[feature_cols].values"
   ]
  },
  {
   "cell_type": "code",
   "execution_count": 4,
   "id": "cc28cd2e",
   "metadata": {},
   "outputs": [
    {
     "data": {
      "text/html": [
       "<div>\n",
       "<style scoped>\n",
       "    .dataframe tbody tr th:only-of-type {\n",
       "        vertical-align: middle;\n",
       "    }\n",
       "\n",
       "    .dataframe tbody tr th {\n",
       "        vertical-align: top;\n",
       "    }\n",
       "\n",
       "    .dataframe thead th {\n",
       "        text-align: right;\n",
       "    }\n",
       "</style>\n",
       "<table border=\"1\" class=\"dataframe\">\n",
       "  <thead>\n",
       "    <tr style=\"text-align: right;\">\n",
       "      <th></th>\n",
       "      <th>zcr</th>\n",
       "      <th>variance</th>\n",
       "      <th>spectral_centroid</th>\n",
       "      <th>spectral_bandwidth</th>\n",
       "      <th>spectral_rolloff</th>\n",
       "      <th>melspectrogram</th>\n",
       "      <th>mfcc</th>\n",
       "      <th>mfcc_delta</th>\n",
       "      <th>chroma_cqt</th>\n",
       "      <th>pitch</th>\n",
       "      <th>thd</th>\n",
       "      <th>hnr</th>\n",
       "    </tr>\n",
       "  </thead>\n",
       "  <tbody>\n",
       "    <tr>\n",
       "      <th>0</th>\n",
       "      <td>[0.09716796875, 0.1044921875, 0.11474609374999...</td>\n",
       "      <td>[0.0022030426189300002]</td>\n",
       "      <td>[1377.7790945041054, 1238.2700642569018, 1180....</td>\n",
       "      <td>[1947.5842458209252, 1738.7225279804752, 1604....</td>\n",
       "      <td>[2541.873584273299, 2183.326639931583, 2103.69...</td>\n",
       "      <td>[0.02117409184575, 0.027825558558106003, 0.026...</td>\n",
       "      <td>[-419.9195251464844, -400.9195251464844, -408....</td>\n",
       "      <td>[-0.353333503007888, -0.353333503007888, -0.35...</td>\n",
       "      <td>[0.642763793468475, 0.6357790827751161, 0.6345...</td>\n",
       "      <td>[329.06211496801427, 337.81937460910484, 333.5...</td>\n",
       "      <td>[0.904148697853088]</td>\n",
       "      <td>[18.672826766967773]</td>\n",
       "    </tr>\n",
       "    <tr>\n",
       "      <th>1</th>\n",
       "      <td>[0.0205078125, 0.03173828125, 0.04296875, 0.04...</td>\n",
       "      <td>[0.002260117791593]</td>\n",
       "      <td>[1356.8606624100562, 1201.5037277470462, 1130....</td>\n",
       "      <td>[1926.7154078625006, 1683.8460217640425, 1518....</td>\n",
       "      <td>[2436.946999815089, 2031.5111871301774, 1953.7...</td>\n",
       "      <td>[0.021299656480550003, 0.028564205393195003, 0...</td>\n",
       "      <td>[-414.5635070800781, -400.49871826171875, -411...</td>\n",
       "      <td>[-1.203613042831421, -1.203613042831421, -1.20...</td>\n",
       "      <td>[0.637114465236663, 0.6228567361831661, 0.6237...</td>\n",
       "      <td>[362.8843257904831, 366.5579393252777, 363.472...</td>\n",
       "      <td>[0.683759987354278]</td>\n",
       "      <td>[18.813617706298828]</td>\n",
       "    </tr>\n",
       "    <tr>\n",
       "      <th>2</th>\n",
       "      <td>[0.0, 0.0, 0.03271484375, 0.09130859375, 0.154...</td>\n",
       "      <td>[0.004939044825732]</td>\n",
       "      <td>[1846.9992270090593, 1751.5651854517155, 1734....</td>\n",
       "      <td>[2335.933122088779, 2124.2362558278137, 2004.7...</td>\n",
       "      <td>[3850.4058837890625, 3388.451385498047, 3184.8...</td>\n",
       "      <td>[24.804506301879883, 27.460018157958984, 22.12...</td>\n",
       "      <td>[-235.103759765625, -255.1435546875, -328.6783...</td>\n",
       "      <td>[-0.37291520833969105, -0.37291520833969105, -...</td>\n",
       "      <td>[0.47981128096580505, 0.41066563129425004, 0.3...</td>\n",
       "      <td>[1677.0517696022007, 1623.2279804749892, 1542....</td>\n",
       "      <td>[1.214024305343628]</td>\n",
       "      <td>[19.891204833984375]</td>\n",
       "    </tr>\n",
       "  </tbody>\n",
       "</table>\n",
       "</div>"
      ],
      "text/plain": [
       "                                                 zcr                 variance  \\\n",
       "0  [0.09716796875, 0.1044921875, 0.11474609374999...  [0.0022030426189300002]   \n",
       "1  [0.0205078125, 0.03173828125, 0.04296875, 0.04...      [0.002260117791593]   \n",
       "2  [0.0, 0.0, 0.03271484375, 0.09130859375, 0.154...      [0.004939044825732]   \n",
       "\n",
       "                                   spectral_centroid  \\\n",
       "0  [1377.7790945041054, 1238.2700642569018, 1180....   \n",
       "1  [1356.8606624100562, 1201.5037277470462, 1130....   \n",
       "2  [1846.9992270090593, 1751.5651854517155, 1734....   \n",
       "\n",
       "                                  spectral_bandwidth  \\\n",
       "0  [1947.5842458209252, 1738.7225279804752, 1604....   \n",
       "1  [1926.7154078625006, 1683.8460217640425, 1518....   \n",
       "2  [2335.933122088779, 2124.2362558278137, 2004.7...   \n",
       "\n",
       "                                    spectral_rolloff  \\\n",
       "0  [2541.873584273299, 2183.326639931583, 2103.69...   \n",
       "1  [2436.946999815089, 2031.5111871301774, 1953.7...   \n",
       "2  [3850.4058837890625, 3388.451385498047, 3184.8...   \n",
       "\n",
       "                                      melspectrogram  \\\n",
       "0  [0.02117409184575, 0.027825558558106003, 0.026...   \n",
       "1  [0.021299656480550003, 0.028564205393195003, 0...   \n",
       "2  [24.804506301879883, 27.460018157958984, 22.12...   \n",
       "\n",
       "                                                mfcc  \\\n",
       "0  [-419.9195251464844, -400.9195251464844, -408....   \n",
       "1  [-414.5635070800781, -400.49871826171875, -411...   \n",
       "2  [-235.103759765625, -255.1435546875, -328.6783...   \n",
       "\n",
       "                                          mfcc_delta  \\\n",
       "0  [-0.353333503007888, -0.353333503007888, -0.35...   \n",
       "1  [-1.203613042831421, -1.203613042831421, -1.20...   \n",
       "2  [-0.37291520833969105, -0.37291520833969105, -...   \n",
       "\n",
       "                                          chroma_cqt  \\\n",
       "0  [0.642763793468475, 0.6357790827751161, 0.6345...   \n",
       "1  [0.637114465236663, 0.6228567361831661, 0.6237...   \n",
       "2  [0.47981128096580505, 0.41066563129425004, 0.3...   \n",
       "\n",
       "                                               pitch                  thd  \\\n",
       "0  [329.06211496801427, 337.81937460910484, 333.5...  [0.904148697853088]   \n",
       "1  [362.8843257904831, 366.5579393252777, 363.472...  [0.683759987354278]   \n",
       "2  [1677.0517696022007, 1623.2279804749892, 1542....  [1.214024305343628]   \n",
       "\n",
       "                    hnr  \n",
       "0  [18.672826766967773]  \n",
       "1  [18.813617706298828]  \n",
       "2  [19.891204833984375]  "
      ]
     },
     "execution_count": 4,
     "metadata": {},
     "output_type": "execute_result"
    }
   ],
   "source": [
    "df"
   ]
  },
  {
   "cell_type": "markdown",
   "id": "2e05fcca",
   "metadata": {},
   "source": [
    "## Dimensionality Reduction with PCA"
   ]
  },
  {
   "cell_type": "code",
   "execution_count": 5,
   "id": "6ae2ea96",
   "metadata": {},
   "outputs": [
    {
     "data": {
      "image/png": "[encoded data removed]",
      "text/plain": [
       "<Figure size 600x500 with 1 Axes>"
      ]
     },
     "metadata": {},
     "output_type": "display_data"
    }
   ],
   "source": [
    "# Reduce to 2 principal components for visualization\n",
    "#X_pca, pca = pca_reducer({k: df[k].values for k in feature_cols}, n_components=2)\n",
    "\n",
    "# Flatten features: if a value is a list/array, take its mean; else use as is\n",
    "flat_features = {}\n",
    "for k in feature_cols:\n",
    "    flat_features[k] = df[k].apply(lambda v: np.mean(v) if isinstance(v, (list, np.ndarray)) else v)\n",
    "X_flat = pd.DataFrame(flat_features).values\n",
    "\n",
    "X_pca, pca = pca_reducer({k: X_flat[:, i] for i, k in enumerate(feature_cols)}, n_components=2)\n",
    "\n",
    "import matplotlib.pyplot as plt\n",
    "plt.figure(figsize=(6, 5))\n",
    "plt.scatter(X_pca[:, 0], X_pca[:, 1], alpha=0.7)\n",
    "plt.xlabel('PC1')\n",
    "plt.ylabel('PC2')\n",
    "plt.title('PCA of Audio Features')\n",
    "plt.tight_layout()\n",
    "plt.show()"
   ]
  },
  {
   "cell_type": "markdown",
   "id": "3ab35c30",
   "metadata": {},
   "source": [
    "## Feature Selection with Mutual Information\n",
    "\n",
    "Suppose we have labels (e.g., class IDs) for supervised selection. Here, we simulate random labels for demonstration."
   ]
  },
  {
   "cell_type": "code",
   "execution_count": null,
   "id": "6b8eddeb",
   "metadata": {},
   "outputs": [
    {
     "name": "stdout",
     "output_type": "stream",
     "text": [
      "Top 5 features by mutual information: ['hnr', 'thd', 'pitch', 'chroma_cqt', 'mfcc_delta']\n"
     ]
    }
   ],
   "source": [
    "# Simulate random labels (replace with real labels for the dataset)\n",
    "\n",
    "y = np.random.randint(0, 2, size=X_flat.shape[0])\n",
    "selected_idx = mutual_info_selector(X_flat, y, k=5)\n",
    "selected_features = [feature_cols[i] for i in selected_idx]\n",
    "print('Top 5 features by mutual information:', selected_features)"
   ]
  },
  {
   "cell_type": "markdown",
   "id": "b2246e77",
   "metadata": {},
   "source": [
    "## Correlation-Based Feature Filtering"
   ]
  },
  {
   "cell_type": "code",
   "execution_count": null,
   "id": "76dfb66c",
   "metadata": {},
   "outputs": [
    {
     "name": "stdout",
     "output_type": "stream",
     "text": [
      "Features after correlation filtering: ['zcr', 'mfcc_delta']\n"
     ]
    }
   ],
   "source": [
    "selected_corr_idx = correlation_selector(X_flat, threshold=0.9)\n",
    "selected_corr_features = [feature_cols[i] for i in selected_corr_idx]\n",
    "print('Features after correlation filtering:', selected_corr_features)"
   ]
  },
  {
   "cell_type": "markdown",
   "id": "795d3194",
   "metadata": {},
   "source": [
    "## Experiment: Varying Correlation Thresholds and Using Different Feature Selectors\n",
    "\n",
    "In this section, we experiment with different correlation thresholds and compare the results of mutual information and variance threshold selectors."
   ]
  },
  {
   "cell_type": "code",
   "execution_count": null,
   "id": "98452ccb",
   "metadata": {},
   "outputs": [
    {
     "name": "stdout",
     "output_type": "stream",
     "text": [
      "Correlation threshold 0.7: 1 features selected\n",
      "Correlation threshold 0.8: 2 features selected\n",
      "Correlation threshold 0.9: 2 features selected\n",
      "Correlation threshold 0.95: 2 features selected\n"
     ]
    }
   ],
   "source": [
    "thresholds = [0.7, 0.8, 0.9, 0.95]\n",
    "for thresh in thresholds:\n",
    "    idx = correlation_selector(X_flat, threshold=thresh)\n",
    "    features = [feature_cols[i] for i in idx]\n",
    "    print(f'Correlation threshold {thresh}: {len(features)} features selected')"
   ]
  },
  {
   "cell_type": "code",
   "execution_count": 9,
   "id": "51794e8c",
   "metadata": {},
   "outputs": [
    {
     "name": "stdout",
     "output_type": "stream",
     "text": [
      "Features selected by variance threshold: ['spectral_centroid', 'spectral_bandwidth', 'spectral_rolloff', 'melspectrogram', 'mfcc', 'pitch', 'thd', 'hnr']\n"
     ]
    }
   ],
   "source": [
    "# Experiment: Variance threshold selector (remove low-variance features)\n",
    "from sklearn.feature_selection import VarianceThreshold\n",
    "\n",
    "selector = VarianceThreshold(threshold=0.01)\n",
    "X_var = selector.fit_transform(X_flat)\n",
    "selected_var_features = [feature_cols[i] for i in selector.get_support(indices=True)]\n",
    "print(f'Features selected by variance threshold: {selected_var_features}')"
   ]
  },
  {
   "cell_type": "code",
   "execution_count": 10,
   "id": "b65fd8b9",
   "metadata": {},
   "outputs": [
    {
     "name": "stdout",
     "output_type": "stream",
     "text": [
      "Top 5 features by mutual information: ['hnr', 'thd', 'pitch', 'chroma_cqt', 'mfcc_delta']\n",
      "Features selected by variance threshold: ['spectral_centroid', 'spectral_bandwidth', 'spectral_rolloff', 'melspectrogram', 'mfcc', 'pitch', 'thd', 'hnr']\n",
      "Common features selected by both: ['thd', 'pitch', 'hnr']\n"
     ]
    }
   ],
   "source": [
    "# Compare mutual information and variance threshold selectors\n",
    "print('Top 5 features by mutual information:', selected_features)\n",
    "print('Features selected by variance threshold:', selected_var_features)\n",
    "common_features = set(selected_features) & set(selected_var_features)\n",
    "print(f'Common features selected by both: {list(common_features)}')"
   ]
  }
 ],
 "metadata": {
  "kernelspec": {
   "display_name": ".venv",
   "language": "python",
   "name": "python3"
  },
  "language_info": {
   "codemirror_mode": {
    "name": "ipython",
    "version": 3
   },
   "file_extension": ".py",
   "mimetype": "text/x-python",
   "name": "python",
   "nbconvert_exporter": "python",
   "pygments_lexer": "ipython3",
   "version": "3.11.9"
  }
 },
 "nbformat": 4,
 "nbformat_minor": 5
}
