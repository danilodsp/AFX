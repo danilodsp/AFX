{
 "cells": [
  {
   "cell_type": "markdown",
   "id": "456ee815",
   "metadata": {},
   "source": [
    "# Feature Extraction, Aggregation, Flattening, and Stacking with AFX Module\n",
    "\n",
    "This notebook demonstrates how to use the AFX package to extract, aggregate, flatten, and stack feature vectors from audio samples in the `data` folder."
   ]
  },
  {
   "cell_type": "code",
   "execution_count": 1,
   "id": "57bba841",
   "metadata": {},
   "outputs": [],
   "source": [
    "import os\n",
    "import numpy as np\n",
    "import matplotlib.pyplot as plt\n",
    "import seaborn as sns\n",
    "\n",
    "import AFX\n",
    "from AFX.extractors import cepstral_features, frequency_domain, harmonic_features, time_domain\n",
    "from AFX.utils import aggregator, shape_utils\n",
    "from AFX.io import io as afx_io\n"
   ]
  },
  {
   "cell_type": "markdown",
   "id": "e12d9cfe",
   "metadata": {},
   "source": [
    "## Load Audio Data\n",
    "\n",
    "Load audio files from the `data` folder using AFX's I/O utilities."
   ]
  },
  {
   "cell_type": "code",
   "execution_count": 2,
   "id": "f344192c",
   "metadata": {},
   "outputs": [
    {
     "name": "stdout",
     "output_type": "stream",
     "text": [
      "Loaded 7383-3-0-0.wav: waveform shape = (88200,), sample rate = 22050\n"
     ]
    }
   ],
   "source": [
    "# List audio files in the data folder\n",
    "DATA_DIR = os.path.join(os.path.dirname(os.getcwd()), 'data')\n",
    "audio_files = [f for f in os.listdir(DATA_DIR) if f.endswith('.wav')]\n",
    "\n",
    "# Load the first audio file for demonstration\n",
    "file_path = os.path.join(DATA_DIR, audio_files[0])\n",
    "waveform, sr = afx_io.load_audio(file_path)\n",
    "print(f\"Loaded {audio_files[0]}: waveform shape = {waveform.shape}, sample rate = {sr}\")"
   ]
  },
  {
   "cell_type": "markdown",
   "id": "06d46915",
   "metadata": {},
   "source": [
    "## Extract Feature Vectors\n",
    "\n",
    "Use AFX extractors to compute feature vectors from the loaded audio data."
   ]
  },
  {
   "cell_type": "code",
   "execution_count": 3,
   "id": "0c03f8cc",
   "metadata": {},
   "outputs": [
    {
     "name": "stdout",
     "output_type": "stream",
     "text": [
      "MFCC shape: (13, 169)\n",
      "Spectral Centroid shape: (1,)\n"
     ]
    }
   ],
   "source": [
    "# Extract MFCCs and spectral features using AFX\n",
    "mfcc_dict = cepstral_features.extract_mfcc(waveform, sr)\n",
    "mfcc = mfcc_dict['mfcc']\n",
    "spectral_centroid_dict = frequency_domain.extract_spectral_centroid(waveform, sr)\n",
    "spectral_centroid = spectral_centroid_dict['spectral_centroid']\n",
    "print(f\"MFCC shape: {mfcc.shape}\")\n",
    "print(f\"Spectral Centroid shape: {spectral_centroid.shape}\")"
   ]
  },
  {
   "cell_type": "markdown",
   "id": "992a1be0",
   "metadata": {},
   "source": [
    "## Aggregate Features\n",
    "\n",
    "Aggregate the extracted feature vectors (e.g., by computing the mean across frames) using AFX's aggregator."
   ]
  },
  {
   "cell_type": "code",
   "execution_count": 4,
   "id": "42607ee6",
   "metadata": {},
   "outputs": [
    {
     "name": "stdout",
     "output_type": "stream",
     "text": [
      "Aggregated MFCC shape: (13,)\n",
      "Aggregated Spectral Centroid shape: (1,)\n"
     ]
    }
   ],
   "source": [
    "# Aggregate features (mean pooling, flatten=True)\n",
    "agg_mfcc = aggregator.aggregate_features({'mfcc': mfcc}, method='mean', flatten=True)['mfcc']\n",
    "agg_centroid = aggregator.aggregate_features({'centroid': spectral_centroid}, method='mean', flatten=True)['centroid']\n",
    "print(f\"Aggregated MFCC shape: {agg_mfcc.shape}\")\n",
    "print(f\"Aggregated Spectral Centroid shape: {agg_centroid.shape}\")"
   ]
  },
  {
   "cell_type": "markdown",
   "id": "36ce6292",
   "metadata": {},
   "source": [
    "## Flatten Feature Vectors\n",
    "\n",
    "Flatten the aggregated feature vectors into 1D arrays using AFX's shape utilities."
   ]
  },
  {
   "cell_type": "code",
   "execution_count": 5,
   "id": "ec47f9bb",
   "metadata": {},
   "outputs": [
    {
     "name": "stdout",
     "output_type": "stream",
     "text": [
      "Flattened MFCC shape: (13,)\n",
      "Flattened Spectral Centroid shape: (1,)\n"
     ]
    }
   ],
   "source": [
    "# Aggregated feature vectors are already flattened\n",
    "flat_mfcc = agg_mfcc\n",
    "flat_centroid = agg_centroid\n",
    "print(f\"Flattened MFCC shape: {flat_mfcc.shape}\")\n",
    "print(f\"Flattened Spectral Centroid shape: {flat_centroid.shape}\")"
   ]
  },
  {
   "cell_type": "markdown",
   "id": "a021a4d8",
   "metadata": {},
   "source": [
    "## Stack Feature Vectors\n",
    "\n",
    "Stack multiple flattened feature vectors into a single matrix for further processing or analysis."
   ]
  },
  {
   "cell_type": "code",
   "execution_count": 6,
   "id": "e636ab81",
   "metadata": {},
   "outputs": [
    {
     "name": "stdout",
     "output_type": "stream",
     "text": [
      "Feature matrix shape: (2, 1)\n"
     ]
    }
   ],
   "source": [
    "# Aggregated feature vectors are already flattened\n",
    "flat_features = {'mfcc': agg_mfcc, 'centroid': agg_centroid}\n",
    "\n",
    "# Find the minimum length to align features\n",
    "min_len = min(f.shape[0] for f in flat_features.values())\n",
    "feature_matrix = np.vstack([f[:min_len] for f in flat_features.values()])\n",
    "\n",
    "print(f\"Feature matrix shape: {feature_matrix.shape}\")"
   ]
  },
  {
   "cell_type": "code",
   "execution_count": 7,
   "id": "c016ac60",
   "metadata": {},
   "outputs": [
    {
     "name": "stdout",
     "output_type": "stream",
     "text": [
      "Padded feature matrix shape: (2, 13)\n",
      "\n"
     ]
    }
   ],
   "source": [
    "# Aggregated feature vectors are already flattened\n",
    "flat_features = {'mfcc': agg_mfcc, 'centroid': agg_centroid}\n",
    "\n",
    "# Find the maximum length\n",
    "max_len = max(f.shape[0] for f in flat_features.values())\n",
    "\n",
    "# Pad each feature to the maximum length\n",
    "padded_features = [\n",
    "    np.pad(f, (0, max_len - f.shape[0]), mode='constant')\n",
    "    for f in flat_features.values()\n",
    "],\n",
    "\n",
    "feature_matrix_padded = np.vstack(padded_features)\n",
    "print(f\"Padded feature matrix shape: {feature_matrix_padded.shape}\")"
   ]
  },
  {
   "cell_type": "markdown",
   "id": "35739a8b",
   "metadata": {},
   "source": [
    "# Visualizing Extracted Feature Matrices\n",
    "Visualize the `feature_matrix` and `feature_matrix_padded` using 2D plots to better understand their structure and content."
   ]
  },
  {
   "cell_type": "code",
   "execution_count": 8,
   "id": "e0e3089d",
   "metadata": {},
   "outputs": [
    {
     "data": {
      "image/png": "[encoded data removed]",
      "text/plain": [
       "<Figure size 1000x600 with 2 Axes>"
      ]
     },
     "metadata": {},
     "output_type": "display_data"
    },
    {
     "data": {
      "image/png": "[encoded data removed]",
      "text/plain": [
       "<Figure size 1000x600 with 2 Axes>"
      ]
     },
     "metadata": {},
     "output_type": "display_data"
    }
   ],
   "source": [
    "# Visualize feature_matrix (2D heatmap)\n",
    "plt.figure(figsize=(10, 6))\n",
    "sns.heatmap(feature_matrix, cmap='viridis', cbar=True)\n",
    "plt.title('Feature Matrix (2D Heatmap)')\n",
    "plt.xlabel('Feature Index')\n",
    "plt.ylabel('Frame Index')\n",
    "plt.show()\n",
    " \n",
    "# Visualize feature_matrix_padded (2D heatmap)\n",
    "plt.figure(figsize=(10, 6))\n",
    "sns.heatmap(feature_matrix_padded, cmap='magma', cbar=True)\n",
    "plt.title('Feature Matrix Padded (2D Heatmap)')\n",
    "plt.xlabel('Feature Index')\n",
    "plt.ylabel('Frame Index')\n",
    "plt.show()\n",
    " "
   ]
  }
 ],
 "metadata": {
  "kernelspec": {
   "display_name": ".venv",
   "language": "python",
   "name": "python3"
  },
  "language_info": {
   "codemirror_mode": {
    "name": "ipython",
    "version": 3
   },
   "file_extension": ".py",
   "mimetype": "text/x-python",
   "name": "python",
   "nbconvert_exporter": "python",
   "pygments_lexer": "ipython3",
   "version": "3.11.9"
  }
 },
 "nbformat": 4,
 "nbformat_minor": 5
}
