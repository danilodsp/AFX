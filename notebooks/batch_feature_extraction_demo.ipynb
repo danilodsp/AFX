{
 "cells": [
  {
   "cell_type": "markdown",
   "id": "1d902ea7",
   "metadata": {},
   "source": [
    "# Batch Audio Feature Extraction Demo\n",
    "\n",
    "This notebook demonstrates how to extract features from a folder of audio files using the batch extractor, and how to analyze and visualize the results."
   ]
  },
  {
   "cell_type": "code",
   "execution_count": null,
   "id": "cf195eb6",
   "metadata": {},
   "outputs": [],
   "source": [
    "import os\n",
    "import numpy as np\n",
    "import pandas as pd\n",
    "from AFX.batch_extractor import extract_features_from_folder\n",
    "from AFX.utils.config_loader import load_config\n",
    "\n",
    "# Set up paths\n",
    "input_folder = os.environ.get('UrbanSound8K_dataset', 'example_audio_folder')\n",
    "config_path = 'AFX/config.json'\n",
    "output_path = 'batch_features.json'\n",
    "\n",
    "# Run batch extraction (this may take time for large folders)\n",
    "extract_features_from_folder(input_folder, config_path, output_path, save_format='json')"
   ]
  },
  {
   "cell_type": "code",
   "execution_count": null,
   "id": "d8703d26",
   "metadata": {},
   "outputs": [],
   "source": [
    "# Load the extracted features\n",
    "import json\n",
    "with open(output_path, 'r') as f:\n",
    "    results = json.load(f)\n",
    "\n",
    "# Convert to DataFrame for analysis (ignore files with errors)\n",
    "records = []\n",
    "for fname, feats in results.items():\n",
    "    if 'error' in feats:\n",
    "        continue\n",
    "    row = {'file': fname}\n",
    "    row.update({k: np.mean(v) if isinstance(v, list) and v and isinstance(v[0], (float, int)) else v for k, v in feats.items()})\n",
    "    records.append(row)\n",
    "df = pd.DataFrame(records)\n",
    "df.head()"
   ]
  },
  {
   "cell_type": "markdown",
   "id": "e6f8da56",
   "metadata": {},
   "source": [
    "## Visualize Feature Distributions\n",
    "Let's plot the distribution of a few features across the dataset."
   ]
  },
  {
   "cell_type": "code",
   "execution_count": null,
   "id": "244ab9ab",
   "metadata": {},
   "outputs": [],
   "source": [
    "import matplotlib.pyplot as plt\n",
    "import seaborn as sns\n",
    "\n",
    "for feature in ['zcr', 'mfcc', 'spectral_centroid']:\n",
    "    if feature in df.columns:\n",
    "        plt.figure(figsize=(6, 4))\n",
    "        sns.histplot(df[feature].dropna(), bins=30, kde=True)\n",
    "        plt.title(f\"Distribution of {feature}\")\n",
    "        plt.xlabel(feature)\n",
    "        plt.ylabel('Count')\n",
    "        plt.tight_layout()\n",
    "        plt.show()"
   ]
  },
  {
   "cell_type": "markdown",
   "id": "84611b5a",
   "metadata": {},
   "source": [
    "## Next Steps\n",
    "- Try running on your own dataset by changing `input_folder`.\n",
    "- Explore more features and aggregation methods.\n",
    "- Use the DataFrame for ML experiments or further analysis."
   ]
  }
 ],
 "metadata": {
  "language_info": {
   "name": "python"
  }
 },
 "nbformat": 4,
 "nbformat_minor": 5
}
