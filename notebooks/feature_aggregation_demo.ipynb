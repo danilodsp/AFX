{
 "cells": [
  {
   "cell_type": "markdown",
   "id": "13b288c8",
   "metadata": {},
   "source": [
    "# Feature Aggregation with AFX\n",
    "\n",
    "This notebook demonstrates how to use the AFX library to extract and aggregate audio features from real audio files. We will use AFX's API for feature extraction, aggregation, and visualization."
   ]
  },
  {
   "cell_type": "code",
   "execution_count": 1,
   "id": "fd355c7a",
   "metadata": {},
   "outputs": [],
   "source": [
    "import os\n",
    "from AFX.io.io import load_audio\n",
    "from AFX.utils.config_loader import load_config\n",
    "from AFX.extract_all import extract_all_features\n",
    "from AFX.utils.aggregator import aggregate_features\n",
    "from AFX.utils.visualization import plot_mfcc, plot_feature_distribution"
   ]
  },
  {
   "cell_type": "markdown",
   "id": "08cf9d70",
   "metadata": {},
   "source": [
    "## Load Audio and Config\n",
    "\n",
    "We will load a real audio file from the `data/` directory and the default AFX config."
   ]
  },
  {
   "cell_type": "code",
   "execution_count": 2,
   "id": "472f5245",
   "metadata": {},
   "outputs": [
    {
     "name": "stdout",
     "output_type": "stream",
     "text": [
      "Loaded audio: ..\\data\\7383-3-0-0.wav, shape: (88200,), sample rate: 22050\n"
     ]
    }
   ],
   "source": [
    "# Select an audio file and config\n",
    "AUDIO_PATH = os.path.join('..', 'data', '7383-3-0-0.wav')\n",
    "CONFIG_PATH = os.path.join('..', 'AFX', 'config.json')\n",
    "config = load_config(CONFIG_PATH)\n",
    "signal, sr = load_audio(AUDIO_PATH, sr=config['sample_rate'])\n",
    "print(f'Loaded audio: {AUDIO_PATH}, shape: {signal.shape}, sample rate: {sr}')"
   ]
  },
  {
   "cell_type": "markdown",
   "id": "be1c00e3",
   "metadata": {},
   "source": [
    "## Extract Features with AFX\n",
    "\n",
    "Extract all features specified in the config using AFX's unified API."
   ]
  },
  {
   "cell_type": "code",
   "execution_count": 3,
   "id": "03502ccf",
   "metadata": {},
   "outputs": [
    {
     "name": "stdout",
     "output_type": "stream",
     "text": [
      "Extracted features: ['zcr', 'variance', 'spectral_centroid', 'spectral_bandwidth', 'spectral_rolloff', 'melspectrogram', 'mfcc', 'mfcc_delta', 'chroma_cqt', 'pitch', 'thd', 'hnr', 'gfcc']\n"
     ]
    }
   ],
   "source": [
    "features = extract_all_features(signal, sr, config)\n",
    "print('Extracted features:', list(features.keys()))"
   ]
  },
  {
   "cell_type": "markdown",
   "id": "28fffe04",
   "metadata": {},
   "source": [
    "## Aggregate Features\n",
    "\n",
    "Aggregate frame-level features to clip-level using AFX's aggregation utilities."
   ]
  },
  {
   "cell_type": "code",
   "execution_count": 4,
   "id": "0b048afe",
   "metadata": {},
   "outputs": [
    {
     "name": "stdout",
     "output_type": "stream",
     "text": [
      "zcr: shape (169,)\n",
      "variance: shape (1,)\n",
      "spectral_centroid: shape (169,)\n",
      "spectral_bandwidth: shape (169,)\n",
      "spectral_rolloff: shape (169,)\n",
      "melspectrogram: shape (128,)\n",
      "mfcc: shape (65,)\n",
      "mfcc_delta: shape (65,)\n",
      "chroma_cqt: shape (60,)\n",
      "pitch: shape (169,)\n",
      "thd: shape (1,)\n",
      "hnr: shape (169,)\n",
      "gfcc: shape (13,)\n"
     ]
    }
   ],
   "source": [
    "agg_features = aggregate_features(features, method='mean', flatten=True, normalize='zscore')\n",
    "for k, v in agg_features.items():\n",
    "    print(f'{k}: shape {v.shape}')"
   ]
  },
  {
   "cell_type": "code",
   "execution_count": 5,
   "id": "49e41393",
   "metadata": {},
   "outputs": [
    {
     "name": "stdout",
     "output_type": "stream",
     "text": [
      "Final feature vector shape: (1347,)\n",
      "Stacked feature vector shape: (1347,)\n"
     ]
    }
   ],
   "source": [
    "from AFX.utils import features_to_vector\n",
    "\n",
    "# Stack all features into a single vector (option 1: via features_to_vector)\n",
    "feature_vector = features_to_vector(agg_features, flatten=False)\n",
    "print('Final feature vector shape:', feature_vector.shape)\n",
    "\n",
    "# Stack all features directly using the aggregation pipeline (option 2)\n",
    "stacked_vector = aggregate_features(features, method='stack')\n",
    "print('Stacked feature vector shape:', stacked_vector.shape)"
   ]
  },
  {
   "cell_type": "markdown",
   "id": "5ad56236",
   "metadata": {},
   "source": [
    "## Other Aggregation Methods\n",
    "\n",
    "AFX supports other aggregation methods such as standard deviation, statistical summary, and stacking."
   ]
  },
  {
   "cell_type": "code",
   "execution_count": 6,
   "id": "2276b360",
   "metadata": {},
   "outputs": [
    {
     "name": "stdout",
     "output_type": "stream",
     "text": [
      "Standard deviation aggregation:\n",
      "zcr: shape (169,)\n",
      "variance: shape (1,)\n",
      "spectral_centroid: shape (169,)\n",
      "spectral_bandwidth: shape (169,)\n",
      "spectral_rolloff: shape (169,)\n",
      "melspectrogram: shape (128,)\n",
      "mfcc: shape (65,)\n",
      "mfcc_delta: shape (65,)\n",
      "chroma_cqt: shape (60,)\n",
      "pitch: shape (169,)\n",
      "thd: shape (1,)\n",
      "hnr: shape (169,)\n",
      "gfcc: shape (13,)\n",
      "\n",
      "Statistical summary aggregation:\n",
      "zcr_mean: shape (169,)\n",
      "zcr_std: shape (169,)\n",
      "variance_mean: shape (1,)\n",
      "variance_std: shape (1,)\n",
      "spectral_centroid_mean: shape (169,)\n",
      "spectral_centroid_std: shape (169,)\n",
      "spectral_bandwidth_mean: shape (169,)\n",
      "spectral_bandwidth_std: shape (169,)\n",
      "spectral_rolloff_mean: shape (169,)\n",
      "spectral_rolloff_std: shape (169,)\n",
      "melspectrogram_mean: shape (128,)\n",
      "melspectrogram_std: shape (128,)\n",
      "mfcc_mean: shape (65,)\n",
      "mfcc_std: shape (65,)\n",
      "mfcc_delta_mean: shape (65,)\n",
      "mfcc_delta_std: shape (65,)\n",
      "chroma_cqt_mean: shape (60,)\n",
      "chroma_cqt_std: shape (60,)\n",
      "pitch_mean: shape (169,)\n",
      "pitch_std: shape (169,)\n",
      "thd_mean: shape (1,)\n",
      "thd_std: shape (1,)\n",
      "hnr_mean: shape (169,)\n",
      "hnr_std: shape (169,)\n",
      "gfcc_mean: shape (13,)\n",
      "gfcc_std: shape (13,)\n"
     ]
    }
   ],
   "source": [
    "agg_std = aggregate_features(features, method='std', flatten=True)\n",
    "agg_summary = aggregate_features(features, method='summary', flatten=True)\n",
    "print('Standard deviation aggregation:')\n",
    "for k, v in agg_std.items():\n",
    "    print(f'{k}: shape {v.shape}')\n",
    "print('\\nStatistical summary aggregation:')\n",
    "for k, v in agg_summary.items():\n",
    "    print(f'{k}: shape {v.shape}')"
   ]
  },
  {
   "cell_type": "markdown",
   "id": "0fbd8ab3",
   "metadata": {},
   "source": [
    "## Visualize Features\n",
    "\n",
    "Use AFX's visualization utilities to feature distributions."
   ]
  },
  {
   "cell_type": "code",
   "execution_count": 7,
   "id": "95b2bfce",
   "metadata": {},
   "outputs": [
    {
     "data": {
      "image/png": "[encoded data removed]",
      "text/plain": [
       "<Figure size 640x480 with 1 Axes>"
      ]
     },
     "metadata": {},
     "output_type": "display_data"
    }
   ],
   "source": [
    "# plot histogram for ZCR if 1D\n",
    "import matplotlib.pyplot as plt\n",
    "plt.hist(features['zcr'].ravel(), bins=30)\n",
    "plt.title('Zero Crossing Rate Distribution')\n",
    "plt.xlabel('ZCR')\n",
    "plt.ylabel('Count')\n",
    "plt.show()"
   ]
  },
  {
   "cell_type": "markdown",
   "id": "9eff49e9",
   "metadata": {},
   "source": [
    "## Summary\n",
    "\n",
    "This notebook demonstrated how to use the AFX library to extract, aggregate, and visualize audio features from real audio files. For more advanced usage, see the AFX documentation and other notebooks."
   ]
  }
 ],
 "metadata": {
  "kernelspec": {
   "display_name": ".venv",
   "language": "python",
   "name": "python3"
  },
  "language_info": {
   "codemirror_mode": {
    "name": "ipython",
    "version": 3
   },
   "file_extension": ".py",
   "mimetype": "text/x-python",
   "name": "python",
   "nbconvert_exporter": "python",
   "pygments_lexer": "ipython3",
   "version": "3.11.9"
  }
 },
 "nbformat": 4,
 "nbformat_minor": 5
}
